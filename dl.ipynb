{
  "nbformat": 4,
  "nbformat_minor": 0,
  "metadata": {
    "colab": {
      "provenance": [],
      "collapsed_sections": [
        "kOp5pg3We-wt",
        "LRXA2yo7fJMl",
        "NKeSyl1mKMR9",
        "1Yq7jkN8bpQi",
        "a8JW3ZSkin3a",
        "WJbrEqfFzrXV",
        "RuwlhoSqm--A",
        "GUhp17XxmeaC"
      ],
      "gpuType": "T4"
    },
    "kernelspec": {
      "name": "python3",
      "display_name": "Python 3"
    },
    "language_info": {
      "name": "python"
    },
    "accelerator": "GPU"
  },
  "cells": [
    {
      "cell_type": "markdown",
      "source": [
        "### **MNIST Dataset(Exp1)**"
      ],
      "metadata": {
        "id": "kOp5pg3We-wt"
      }
    },
    {
      "cell_type": "code",
      "execution_count": null,
      "metadata": {
        "id": "KWkBiEY8J5Pq"
      },
      "outputs": [],
      "source": [
        "from sklearn.datasets import fetch_openml"
      ]
    },
    {
      "cell_type": "code",
      "source": [
        "from sklearn.neural_network import MLPClassifier\n",
        "from sklearn.metrics import accuracy_score, confusion_matrix\n",
        "from sklearn.model_selection import train_test_split\n",
        "import seaborn as sns\n",
        "import matplotlib.pyplot as plt"
      ],
      "metadata": {
        "id": "uEeQPH-x67Wd"
      },
      "execution_count": null,
      "outputs": []
    },
    {
      "cell_type": "code",
      "source": [
        "X,y = fetch_openml(\"mnist_784\", version=1, return_X_y=True)"
      ],
      "metadata": {
        "colab": {
          "base_uri": "https://localhost:8080/"
        },
        "id": "9q7VBfbfKug8",
        "outputId": "7433c4f4-c761-46b1-e4f4-59fa72465b4c"
      },
      "execution_count": null,
      "outputs": [
        {
          "output_type": "stream",
          "name": "stderr",
          "text": [
            "/usr/local/lib/python3.10/dist-packages/sklearn/datasets/_openml.py:968: FutureWarning: The default value of `parser` will change from `'liac-arff'` to `'auto'` in 1.4. You can set `parser='auto'` to silence this warning. Therefore, an `ImportError` will be raised from 1.4 if the dataset is dense and pandas is not installed. Note that the pandas parser may return different data types. See the Notes Section in fetch_openml's API doc for details.\n",
            "  warn(\n"
          ]
        }
      ]
    },
    {
      "cell_type": "code",
      "source": [
        "X /= 255.0"
      ],
      "metadata": {
        "id": "A0SKRRrNK0ns"
      },
      "execution_count": null,
      "outputs": []
    },
    {
      "cell_type": "code",
      "source": [
        "x_train,x_test,y_train,y_test = train_test_split(X,y,random_state=42)"
      ],
      "metadata": {
        "id": "gw2X33kD-90V"
      },
      "execution_count": null,
      "outputs": []
    },
    {
      "cell_type": "code",
      "source": [
        "mlp = MLPClassifier(hidden_layer_sizes=(100,50))\n",
        "mlp.fit(x_train,y_train)"
      ],
      "metadata": {
        "colab": {
          "base_uri": "https://localhost:8080/",
          "height": 74
        },
        "id": "d3dugMmwMXZa",
        "outputId": "9c1df702-9c02-424d-9f92-da2693e45a97"
      },
      "execution_count": null,
      "outputs": [
        {
          "output_type": "execute_result",
          "data": {
            "text/plain": [
              "MLPClassifier(hidden_layer_sizes=(100, 50))"
            ],
            "text/html": [
              "<style>#sk-container-id-2 {color: black;background-color: white;}#sk-container-id-2 pre{padding: 0;}#sk-container-id-2 div.sk-toggleable {background-color: white;}#sk-container-id-2 label.sk-toggleable__label {cursor: pointer;display: block;width: 100%;margin-bottom: 0;padding: 0.3em;box-sizing: border-box;text-align: center;}#sk-container-id-2 label.sk-toggleable__label-arrow:before {content: \"▸\";float: left;margin-right: 0.25em;color: #696969;}#sk-container-id-2 label.sk-toggleable__label-arrow:hover:before {color: black;}#sk-container-id-2 div.sk-estimator:hover label.sk-toggleable__label-arrow:before {color: black;}#sk-container-id-2 div.sk-toggleable__content {max-height: 0;max-width: 0;overflow: hidden;text-align: left;background-color: #f0f8ff;}#sk-container-id-2 div.sk-toggleable__content pre {margin: 0.2em;color: black;border-radius: 0.25em;background-color: #f0f8ff;}#sk-container-id-2 input.sk-toggleable__control:checked~div.sk-toggleable__content {max-height: 200px;max-width: 100%;overflow: auto;}#sk-container-id-2 input.sk-toggleable__control:checked~label.sk-toggleable__label-arrow:before {content: \"▾\";}#sk-container-id-2 div.sk-estimator input.sk-toggleable__control:checked~label.sk-toggleable__label {background-color: #d4ebff;}#sk-container-id-2 div.sk-label input.sk-toggleable__control:checked~label.sk-toggleable__label {background-color: #d4ebff;}#sk-container-id-2 input.sk-hidden--visually {border: 0;clip: rect(1px 1px 1px 1px);clip: rect(1px, 1px, 1px, 1px);height: 1px;margin: -1px;overflow: hidden;padding: 0;position: absolute;width: 1px;}#sk-container-id-2 div.sk-estimator {font-family: monospace;background-color: #f0f8ff;border: 1px dotted black;border-radius: 0.25em;box-sizing: border-box;margin-bottom: 0.5em;}#sk-container-id-2 div.sk-estimator:hover {background-color: #d4ebff;}#sk-container-id-2 div.sk-parallel-item::after {content: \"\";width: 100%;border-bottom: 1px solid gray;flex-grow: 1;}#sk-container-id-2 div.sk-label:hover label.sk-toggleable__label {background-color: #d4ebff;}#sk-container-id-2 div.sk-serial::before {content: \"\";position: absolute;border-left: 1px solid gray;box-sizing: border-box;top: 0;bottom: 0;left: 50%;z-index: 0;}#sk-container-id-2 div.sk-serial {display: flex;flex-direction: column;align-items: center;background-color: white;padding-right: 0.2em;padding-left: 0.2em;position: relative;}#sk-container-id-2 div.sk-item {position: relative;z-index: 1;}#sk-container-id-2 div.sk-parallel {display: flex;align-items: stretch;justify-content: center;background-color: white;position: relative;}#sk-container-id-2 div.sk-item::before, #sk-container-id-2 div.sk-parallel-item::before {content: \"\";position: absolute;border-left: 1px solid gray;box-sizing: border-box;top: 0;bottom: 0;left: 50%;z-index: -1;}#sk-container-id-2 div.sk-parallel-item {display: flex;flex-direction: column;z-index: 1;position: relative;background-color: white;}#sk-container-id-2 div.sk-parallel-item:first-child::after {align-self: flex-end;width: 50%;}#sk-container-id-2 div.sk-parallel-item:last-child::after {align-self: flex-start;width: 50%;}#sk-container-id-2 div.sk-parallel-item:only-child::after {width: 0;}#sk-container-id-2 div.sk-dashed-wrapped {border: 1px dashed gray;margin: 0 0.4em 0.5em 0.4em;box-sizing: border-box;padding-bottom: 0.4em;background-color: white;}#sk-container-id-2 div.sk-label label {font-family: monospace;font-weight: bold;display: inline-block;line-height: 1.2em;}#sk-container-id-2 div.sk-label-container {text-align: center;}#sk-container-id-2 div.sk-container {/* jupyter's `normalize.less` sets `[hidden] { display: none; }` but bootstrap.min.css set `[hidden] { display: none !important; }` so we also need the `!important` here to be able to override the default hidden behavior on the sphinx rendered scikit-learn.org. See: https://github.com/scikit-learn/scikit-learn/issues/21755 */display: inline-block !important;position: relative;}#sk-container-id-2 div.sk-text-repr-fallback {display: none;}</style><div id=\"sk-container-id-2\" class=\"sk-top-container\"><div class=\"sk-text-repr-fallback\"><pre>MLPClassifier(hidden_layer_sizes=(100, 50))</pre><b>In a Jupyter environment, please rerun this cell to show the HTML representation or trust the notebook. <br />On GitHub, the HTML representation is unable to render, please try loading this page with nbviewer.org.</b></div><div class=\"sk-container\" hidden><div class=\"sk-item\"><div class=\"sk-estimator sk-toggleable\"><input class=\"sk-toggleable__control sk-hidden--visually\" id=\"sk-estimator-id-2\" type=\"checkbox\" checked><label for=\"sk-estimator-id-2\" class=\"sk-toggleable__label sk-toggleable__label-arrow\">MLPClassifier</label><div class=\"sk-toggleable__content\"><pre>MLPClassifier(hidden_layer_sizes=(100, 50))</pre></div></div></div></div></div>"
            ]
          },
          "metadata": {},
          "execution_count": 59
        }
      ]
    },
    {
      "cell_type": "code",
      "source": [
        "y_pred = mlp.predict(x_test)"
      ],
      "metadata": {
        "id": "90f2OM_163Tr"
      },
      "execution_count": null,
      "outputs": []
    },
    {
      "cell_type": "code",
      "source": [
        "cm = confusion_matrix(y_test, y_pred)"
      ],
      "metadata": {
        "id": "J-8otkbSTP7l"
      },
      "execution_count": null,
      "outputs": []
    },
    {
      "cell_type": "code",
      "source": [
        "sns.heatmap(cm, cmap=\"Blues\", annot=True, fmt=\"d\")\n",
        "plt.xlabel(\"Predicted\")\n",
        "plt.ylabel(\"Actual\")\n",
        "plt.title(\"Confusion Matrix\")\n",
        "plt.show()"
      ],
      "metadata": {
        "colab": {
          "base_uri": "https://localhost:8080/",
          "height": 472
        },
        "id": "GuK9aunjc5T5",
        "outputId": "322413f1-1101-4521-a263-b74794753c2b"
      },
      "execution_count": null,
      "outputs": [
        {
          "output_type": "display_data",
          "data": {
            "text/plain": [
              "<Figure size 640x480 with 2 Axes>"
            ],
            "image/png": "[encoded data removed]"
          },
          "metadata": {}
        }
      ]
    },
    {
      "cell_type": "markdown",
      "source": [
        "### **Understanding Packages (Exp2)**"
      ],
      "metadata": {
        "id": "LRXA2yo7fJMl"
      }
    },
    {
      "cell_type": "code",
      "source": [
        "# Tensorflow\n",
        "\n",
        "import tensorflow as tf\n",
        "\n",
        "a = tf.constant([1,2,3])\n",
        "b = tf.constant([7,6,5])\n",
        "z = a+b\n",
        "\n",
        "print(z.numpy())"
      ],
      "metadata": {
        "colab": {
          "base_uri": "https://localhost:8080/"
        },
        "id": "NajikzYcfPBc",
        "outputId": "44bdbca7-53e7-4aaf-c7a9-2daaa09ac786"
      },
      "execution_count": null,
      "outputs": [
        {
          "output_type": "stream",
          "name": "stdout",
          "text": [
            "[8 8 8]\n"
          ]
        }
      ]
    },
    {
      "cell_type": "code",
      "source": [
        "# Keras\n",
        "\n",
        "import tensorflow as tf\n",
        "from tensorflow.keras.datasets import mnist\n",
        "from sklearn.metrics import classification_report, accuracy_score"
      ],
      "metadata": {
        "id": "dyq9bTG1keMJ"
      },
      "execution_count": null,
      "outputs": []
    },
    {
      "cell_type": "code",
      "source": [
        "(x_train, y_train), (x_test, y_test) = mnist.load_data()"
      ],
      "metadata": {
        "id": "0OSiiIT3k49L"
      },
      "execution_count": null,
      "outputs": []
    },
    {
      "cell_type": "code",
      "source": [
        "x_train = x_train/255.0\n",
        "x_test = x_test/255.0"
      ],
      "metadata": {
        "id": "wfLy62b1n0_z"
      },
      "execution_count": null,
      "outputs": []
    },
    {
      "cell_type": "code",
      "source": [
        "model = tf.keras.Sequential([\n",
        "    tf.keras.layers.Flatten(input_shape=(28,28)),\n",
        "    tf.keras.layers.Dense(128, activation=\"relu\"),\n",
        "    tf.keras.layers.Dropout(0.2),\n",
        "    tf.keras.layers.Dense(10, activation=\"softmax\")\n",
        "])"
      ],
      "metadata": {
        "id": "4-r1146Apt6_"
      },
      "execution_count": null,
      "outputs": []
    },
    {
      "cell_type": "code",
      "source": [
        "model.compile(optimizer=\"adam\", loss=\"sparse_categorical_crossentropy\", metrics=['accuracy'])\n",
        "model.fit(x_train, y_train, epochs=5)"
      ],
      "metadata": {
        "colab": {
          "base_uri": "https://localhost:8080/"
        },
        "id": "6RxVzvRRs4U2",
        "outputId": "f1a00afe-45f6-410c-cba5-6a9b58e09f46"
      },
      "execution_count": null,
      "outputs": [
        {
          "output_type": "stream",
          "name": "stdout",
          "text": [
            "Epoch 1/5\n",
            "1875/1875 [==============================] - 8s 4ms/step - loss: 0.2938 - accuracy: 0.9139\n",
            "Epoch 2/5\n",
            "1875/1875 [==============================] - 8s 4ms/step - loss: 0.1382 - accuracy: 0.9589\n",
            "Epoch 3/5\n",
            "1875/1875 [==============================] - 7s 4ms/step - loss: 0.1037 - accuracy: 0.9684\n",
            "Epoch 4/5\n",
            "1875/1875 [==============================] - 8s 4ms/step - loss: 0.0873 - accuracy: 0.9727\n",
            "Epoch 5/5\n",
            "1875/1875 [==============================] - 7s 4ms/step - loss: 0.0731 - accuracy: 0.9772\n"
          ]
        },
        {
          "output_type": "execute_result",
          "data": {
            "text/plain": [
              "<keras.src.callbacks.History at 0x7c7f9f7ebd60>"
            ]
          },
          "metadata": {},
          "execution_count": 143
        }
      ]
    },
    {
      "cell_type": "code",
      "source": [
        "model.evaluate(x_test, y_test)"
      ],
      "metadata": {
        "colab": {
          "base_uri": "https://localhost:8080/"
        },
        "id": "bMLsgZCAxTte",
        "outputId": "93e0585a-af43-4d47-e906-7299f5a02696"
      },
      "execution_count": null,
      "outputs": [
        {
          "output_type": "stream",
          "name": "stdout",
          "text": [
            "313/313 [==============================] - 1s 3ms/step - loss: 0.0728 - accuracy: 0.9782\n"
          ]
        },
        {
          "output_type": "execute_result",
          "data": {
            "text/plain": [
              "[0.0728209987282753, 0.9782000184059143]"
            ]
          },
          "metadata": {},
          "execution_count": 144
        }
      ]
    },
    {
      "cell_type": "code",
      "source": [
        "# PyTorch\n",
        "\n",
        "import torch\n",
        "\n",
        "a = torch.tensor([1,2,3,4])\n",
        "b = torch.tensor([8,7,6,5])\n",
        "print(a + b)\n",
        "print(a.shape)"
      ],
      "metadata": {
        "colab": {
          "base_uri": "https://localhost:8080/"
        },
        "id": "uZ3HjSTYFoBR",
        "outputId": "e60552f7-d950-46dd-f62a-407eccfe0e51"
      },
      "execution_count": null,
      "outputs": [
        {
          "output_type": "stream",
          "name": "stdout",
          "text": [
            "tensor([9, 9, 9, 9])\n",
            "torch.Size([4])\n"
          ]
        }
      ]
    },
    {
      "cell_type": "markdown",
      "source": [
        "### **Performance Optimization using Hyperparameter Tuning (Exp3)**"
      ],
      "metadata": {
        "id": "NKeSyl1mKMR9"
      }
    },
    {
      "cell_type": "code",
      "source": [
        "!pip install scikeras"
      ],
      "metadata": {
        "id": "rUKI34kIUa4z"
      },
      "execution_count": null,
      "outputs": []
    },
    {
      "cell_type": "code",
      "source": [
        "import tensorflow as tf\n",
        "from tensorflow.keras.datasets import mnist\n",
        "from sklearn.metrics import accuracy_score\n",
        "from sklearn.model_selection import GridSearchCV\n",
        "from scikeras.wrappers import KerasClassifier\n",
        "\n",
        "(x_train, y_train), (x_test, y_test) = mnist.load_data()\n",
        "x_train = x_train/255.0\n",
        "x_test = x_test/255.0\n",
        "\n",
        "def CreateModel(num_units, learning_rate):\n",
        "  model = tf.keras.Sequential([\n",
        "      tf.keras.layers.Flatten(input_shape=(28,28)),\n",
        "      tf.keras.layers.Dense(num_units, activation=\"relu\"),\n",
        "      tf.keras.layers.Dropout(0.2),\n",
        "      tf.keras.layers.Dense(10, activation=\"softmax\")\n",
        "  ])\n",
        "  customOptimizer = tf.keras.optimizers.Adam(learning_rate=learning_rate)\n",
        "  model.compile(optimizer=customOptimizer, loss=\"sparse_categorical_crossentropy\", metrics=['accuracy'])\n",
        "  return model\n",
        "\n",
        "paramGrid = {\n",
        "    \"learning_rate\": [0.1, 0.01, 0.001],\n",
        "    \"num_units\": [32, 64, 128]\n",
        "}\n",
        "\n",
        "kerasModel = KerasClassifier(num_units=32, learning_rate=0.1, build_fn=CreateModel, batch_size=64, epochs=3)\n",
        "grid = GridSearchCV(estimator=kerasModel, param_grid=paramGrid, cv=3)\n",
        "\n",
        "gridResult = grid.fit(x_train, y_train)"
      ],
      "metadata": {
        "colab": {
          "base_uri": "https://localhost:8080/"
        },
        "id": "ilpuIjozKVyl",
        "outputId": "92c0a0ce-f0fb-4b22-e5d2-6a09d887dc8b"
      },
      "execution_count": null,
      "outputs": [
        {
          "output_type": "stream",
          "name": "stderr",
          "text": [
            "/usr/local/lib/python3.10/dist-packages/scikeras/wrappers.py:915: UserWarning: ``build_fn`` will be renamed to ``model`` in a future release, at which point use of ``build_fn`` will raise an Error instead.\n",
            "  X, y = self._initialize(X, y)\n"
          ]
        },
        {
          "output_type": "stream",
          "name": "stdout",
          "text": [
            "Epoch 1/3\n",
            "625/625 [==============================] - 5s 7ms/step - loss: 1.4459 - accuracy: 0.5062\n",
            "Epoch 2/3\n",
            "625/625 [==============================] - 6s 9ms/step - loss: 1.4556 - accuracy: 0.4909\n",
            "Epoch 3/3\n",
            "625/625 [==============================] - 3s 5ms/step - loss: 1.5125 - accuracy: 0.4720\n",
            "313/313 [==============================] - 1s 3ms/step\n"
          ]
        },
        {
          "output_type": "stream",
          "name": "stderr",
          "text": [
            "/usr/local/lib/python3.10/dist-packages/scikeras/wrappers.py:915: UserWarning: ``build_fn`` will be renamed to ``model`` in a future release, at which point use of ``build_fn`` will raise an Error instead.\n",
            "  X, y = self._initialize(X, y)\n"
          ]
        },
        {
          "output_type": "stream",
          "name": "stdout",
          "text": [
            "Epoch 1/3\n",
            "625/625 [==============================] - 5s 6ms/step - loss: 1.2706 - accuracy: 0.6029\n",
            "Epoch 2/3\n",
            "625/625 [==============================] - 4s 6ms/step - loss: 1.2620 - accuracy: 0.6014\n",
            "Epoch 3/3\n",
            "625/625 [==============================] - 2s 4ms/step - loss: 1.2623 - accuracy: 0.5911\n",
            "313/313 [==============================] - 1s 2ms/step\n"
          ]
        },
        {
          "output_type": "stream",
          "name": "stderr",
          "text": [
            "/usr/local/lib/python3.10/dist-packages/scikeras/wrappers.py:915: UserWarning: ``build_fn`` will be renamed to ``model`` in a future release, at which point use of ``build_fn`` will raise an Error instead.\n",
            "  X, y = self._initialize(X, y)\n"
          ]
        },
        {
          "output_type": "stream",
          "name": "stdout",
          "text": [
            "Epoch 1/3\n",
            "625/625 [==============================] - 2s 3ms/step - loss: 1.4078 - accuracy: 0.5152\n",
            "Epoch 2/3\n",
            "625/625 [==============================] - 2s 2ms/step - loss: 1.3820 - accuracy: 0.5272\n",
            "Epoch 3/3\n",
            "625/625 [==============================] - 2s 3ms/step - loss: 1.4264 - accuracy: 0.5083\n",
            "313/313 [==============================] - 1s 3ms/step\n"
          ]
        },
        {
          "output_type": "stream",
          "name": "stderr",
          "text": [
            "/usr/local/lib/python3.10/dist-packages/scikeras/wrappers.py:915: UserWarning: ``build_fn`` will be renamed to ``model`` in a future release, at which point use of ``build_fn`` will raise an Error instead.\n",
            "  X, y = self._initialize(X, y)\n"
          ]
        },
        {
          "output_type": "stream",
          "name": "stdout",
          "text": [
            "Epoch 1/3\n",
            "625/625 [==============================] - 4s 5ms/step - loss: 1.3703 - accuracy: 0.5681\n",
            "Epoch 2/3\n",
            "625/625 [==============================] - 4s 6ms/step - loss: 1.2637 - accuracy: 0.5955\n",
            "Epoch 3/3\n",
            "625/625 [==============================] - 2s 4ms/step - loss: 1.3256 - accuracy: 0.5691\n",
            "313/313 [==============================] - 1s 3ms/step\n"
          ]
        },
        {
          "output_type": "stream",
          "name": "stderr",
          "text": [
            "/usr/local/lib/python3.10/dist-packages/scikeras/wrappers.py:915: UserWarning: ``build_fn`` will be renamed to ``model`` in a future release, at which point use of ``build_fn`` will raise an Error instead.\n",
            "  X, y = self._initialize(X, y)\n"
          ]
        },
        {
          "output_type": "stream",
          "name": "stdout",
          "text": [
            "Epoch 1/3\n",
            "625/625 [==============================] - 4s 5ms/step - loss: 1.2968 - accuracy: 0.5958\n",
            "Epoch 2/3\n",
            "625/625 [==============================] - 4s 6ms/step - loss: 1.2551 - accuracy: 0.5713\n",
            "Epoch 3/3\n",
            "625/625 [==============================] - 2s 4ms/step - loss: 1.4915 - accuracy: 0.4894\n",
            "313/313 [==============================] - 1s 2ms/step\n"
          ]
        },
        {
          "output_type": "stream",
          "name": "stderr",
          "text": [
            "/usr/local/lib/python3.10/dist-packages/scikeras/wrappers.py:915: UserWarning: ``build_fn`` will be renamed to ``model`` in a future release, at which point use of ``build_fn`` will raise an Error instead.\n",
            "  X, y = self._initialize(X, y)\n"
          ]
        },
        {
          "output_type": "stream",
          "name": "stdout",
          "text": [
            "Epoch 1/3\n",
            "625/625 [==============================] - 2s 3ms/step - loss: 1.3996 - accuracy: 0.5394\n",
            "Epoch 2/3\n",
            "625/625 [==============================] - 4s 6ms/step - loss: 1.2756 - accuracy: 0.5853\n",
            "Epoch 3/3\n",
            "625/625 [==============================] - 4s 7ms/step - loss: 1.3594 - accuracy: 0.5543\n",
            "313/313 [==============================] - 1s 2ms/step\n"
          ]
        },
        {
          "output_type": "stream",
          "name": "stderr",
          "text": [
            "/usr/local/lib/python3.10/dist-packages/scikeras/wrappers.py:915: UserWarning: ``build_fn`` will be renamed to ``model`` in a future release, at which point use of ``build_fn`` will raise an Error instead.\n",
            "  X, y = self._initialize(X, y)\n"
          ]
        },
        {
          "output_type": "stream",
          "name": "stdout",
          "text": [
            "Epoch 1/3\n",
            "625/625 [==============================] - 3s 4ms/step - loss: 1.5225 - accuracy: 0.4998\n",
            "Epoch 2/3\n",
            "625/625 [==============================] - 2s 4ms/step - loss: 1.4065 - accuracy: 0.4969\n",
            "Epoch 3/3\n",
            "625/625 [==============================] - 3s 5ms/step - loss: 1.5233 - accuracy: 0.4453\n",
            "313/313 [==============================] - 1s 3ms/step\n"
          ]
        },
        {
          "output_type": "stream",
          "name": "stderr",
          "text": [
            "/usr/local/lib/python3.10/dist-packages/scikeras/wrappers.py:915: UserWarning: ``build_fn`` will be renamed to ``model`` in a future release, at which point use of ``build_fn`` will raise an Error instead.\n",
            "  X, y = self._initialize(X, y)\n"
          ]
        },
        {
          "output_type": "stream",
          "name": "stdout",
          "text": [
            "Epoch 1/3\n",
            "625/625 [==============================] - 4s 5ms/step - loss: 1.2394 - accuracy: 0.6633\n",
            "Epoch 2/3\n",
            "625/625 [==============================] - 3s 4ms/step - loss: 1.2006 - accuracy: 0.6309\n",
            "Epoch 3/3\n",
            "625/625 [==============================] - 3s 4ms/step - loss: 1.3424 - accuracy: 0.5674\n",
            "313/313 [==============================] - 1s 2ms/step\n"
          ]
        },
        {
          "output_type": "stream",
          "name": "stderr",
          "text": [
            "/usr/local/lib/python3.10/dist-packages/scikeras/wrappers.py:915: UserWarning: ``build_fn`` will be renamed to ``model`` in a future release, at which point use of ``build_fn`` will raise an Error instead.\n",
            "  X, y = self._initialize(X, y)\n"
          ]
        },
        {
          "output_type": "stream",
          "name": "stdout",
          "text": [
            "Epoch 1/3\n",
            "625/625 [==============================] - 4s 5ms/step - loss: 1.3351 - accuracy: 0.6177\n",
            "Epoch 2/3\n",
            "625/625 [==============================] - 4s 7ms/step - loss: 1.2045 - accuracy: 0.6133\n",
            "Epoch 3/3\n",
            "625/625 [==============================] - 3s 4ms/step - loss: 1.3001 - accuracy: 0.5711\n",
            "313/313 [==============================] - 1s 2ms/step\n"
          ]
        },
        {
          "output_type": "stream",
          "name": "stderr",
          "text": [
            "/usr/local/lib/python3.10/dist-packages/scikeras/wrappers.py:915: UserWarning: ``build_fn`` will be renamed to ``model`` in a future release, at which point use of ``build_fn`` will raise an Error instead.\n",
            "  X, y = self._initialize(X, y)\n"
          ]
        },
        {
          "output_type": "stream",
          "name": "stdout",
          "text": [
            "Epoch 1/3\n",
            "625/625 [==============================] - 2s 3ms/step - loss: 0.4810 - accuracy: 0.8463\n",
            "Epoch 2/3\n",
            "625/625 [==============================] - 2s 3ms/step - loss: 0.3510 - accuracy: 0.8887\n",
            "Epoch 3/3\n",
            "625/625 [==============================] - 2s 3ms/step - loss: 0.3218 - accuracy: 0.8977\n",
            "313/313 [==============================] - 2s 7ms/step\n"
          ]
        },
        {
          "output_type": "stream",
          "name": "stderr",
          "text": [
            "/usr/local/lib/python3.10/dist-packages/scikeras/wrappers.py:915: UserWarning: ``build_fn`` will be renamed to ``model`` in a future release, at which point use of ``build_fn`` will raise an Error instead.\n",
            "  X, y = self._initialize(X, y)\n"
          ]
        },
        {
          "output_type": "stream",
          "name": "stdout",
          "text": [
            "Epoch 1/3\n",
            "625/625 [==============================] - 3s 4ms/step - loss: 0.4678 - accuracy: 0.8544\n",
            "Epoch 2/3\n",
            "625/625 [==============================] - 2s 3ms/step - loss: 0.3315 - accuracy: 0.8972\n",
            "Epoch 3/3\n",
            "625/625 [==============================] - 2s 2ms/step - loss: 0.3035 - accuracy: 0.9056\n",
            "313/313 [==============================] - 1s 2ms/step\n"
          ]
        },
        {
          "output_type": "stream",
          "name": "stderr",
          "text": [
            "/usr/local/lib/python3.10/dist-packages/scikeras/wrappers.py:915: UserWarning: ``build_fn`` will be renamed to ``model`` in a future release, at which point use of ``build_fn`` will raise an Error instead.\n",
            "  X, y = self._initialize(X, y)\n"
          ]
        },
        {
          "output_type": "stream",
          "name": "stdout",
          "text": [
            "Epoch 1/3\n",
            "625/625 [==============================] - 3s 4ms/step - loss: 0.4489 - accuracy: 0.8604\n",
            "Epoch 2/3\n",
            "625/625 [==============================] - 3s 4ms/step - loss: 0.3194 - accuracy: 0.9016\n",
            "Epoch 3/3\n",
            "625/625 [==============================] - 2s 3ms/step - loss: 0.2902 - accuracy: 0.9113\n",
            "313/313 [==============================] - 1s 2ms/step\n"
          ]
        },
        {
          "output_type": "stream",
          "name": "stderr",
          "text": [
            "/usr/local/lib/python3.10/dist-packages/scikeras/wrappers.py:915: UserWarning: ``build_fn`` will be renamed to ``model`` in a future release, at which point use of ``build_fn`` will raise an Error instead.\n",
            "  X, y = self._initialize(X, y)\n"
          ]
        },
        {
          "output_type": "stream",
          "name": "stdout",
          "text": [
            "Epoch 1/3\n",
            "625/625 [==============================] - 2s 3ms/step - loss: 0.3428 - accuracy: 0.8952\n",
            "Epoch 2/3\n",
            "625/625 [==============================] - 2s 4ms/step - loss: 0.2265 - accuracy: 0.9313\n",
            "Epoch 3/3\n",
            "625/625 [==============================] - 5s 8ms/step - loss: 0.1993 - accuracy: 0.9393\n",
            "313/313 [==============================] - 1s 2ms/step\n"
          ]
        },
        {
          "output_type": "stream",
          "name": "stderr",
          "text": [
            "/usr/local/lib/python3.10/dist-packages/scikeras/wrappers.py:915: UserWarning: ``build_fn`` will be renamed to ``model`` in a future release, at which point use of ``build_fn`` will raise an Error instead.\n",
            "  X, y = self._initialize(X, y)\n"
          ]
        },
        {
          "output_type": "stream",
          "name": "stdout",
          "text": [
            "Epoch 1/3\n",
            "625/625 [==============================] - 2s 3ms/step - loss: 0.3272 - accuracy: 0.8998\n",
            "Epoch 2/3\n",
            "625/625 [==============================] - 2s 3ms/step - loss: 0.2227 - accuracy: 0.9317\n",
            "Epoch 3/3\n",
            "625/625 [==============================] - 2s 3ms/step - loss: 0.1974 - accuracy: 0.9391\n",
            "313/313 [==============================] - 1s 2ms/step\n"
          ]
        },
        {
          "output_type": "stream",
          "name": "stderr",
          "text": [
            "/usr/local/lib/python3.10/dist-packages/scikeras/wrappers.py:915: UserWarning: ``build_fn`` will be renamed to ``model`` in a future release, at which point use of ``build_fn`` will raise an Error instead.\n",
            "  X, y = self._initialize(X, y)\n"
          ]
        },
        {
          "output_type": "stream",
          "name": "stdout",
          "text": [
            "Epoch 1/3\n",
            "625/625 [==============================] - 4s 5ms/step - loss: 0.3488 - accuracy: 0.8934\n",
            "Epoch 2/3\n",
            "625/625 [==============================] - 3s 4ms/step - loss: 0.2252 - accuracy: 0.9324\n",
            "Epoch 3/3\n",
            "625/625 [==============================] - 2s 3ms/step - loss: 0.2030 - accuracy: 0.9385\n",
            "313/313 [==============================] - 1s 2ms/step\n"
          ]
        },
        {
          "output_type": "stream",
          "name": "stderr",
          "text": [
            "/usr/local/lib/python3.10/dist-packages/scikeras/wrappers.py:915: UserWarning: ``build_fn`` will be renamed to ``model`` in a future release, at which point use of ``build_fn`` will raise an Error instead.\n",
            "  X, y = self._initialize(X, y)\n"
          ]
        },
        {
          "output_type": "stream",
          "name": "stdout",
          "text": [
            "Epoch 1/3\n",
            "625/625 [==============================] - 3s 4ms/step - loss: 0.3048 - accuracy: 0.9081\n",
            "Epoch 2/3\n",
            "625/625 [==============================] - 3s 4ms/step - loss: 0.2032 - accuracy: 0.9387\n",
            "Epoch 3/3\n",
            "625/625 [==============================] - 4s 6ms/step - loss: 0.1762 - accuracy: 0.9475\n",
            "313/313 [==============================] - 2s 5ms/step\n"
          ]
        },
        {
          "output_type": "stream",
          "name": "stderr",
          "text": [
            "/usr/local/lib/python3.10/dist-packages/scikeras/wrappers.py:915: UserWarning: ``build_fn`` will be renamed to ``model`` in a future release, at which point use of ``build_fn`` will raise an Error instead.\n",
            "  X, y = self._initialize(X, y)\n"
          ]
        },
        {
          "output_type": "stream",
          "name": "stdout",
          "text": [
            "Epoch 1/3\n",
            "625/625 [==============================] - 3s 4ms/step - loss: 0.3061 - accuracy: 0.9065\n",
            "Epoch 2/3\n",
            "625/625 [==============================] - 3s 4ms/step - loss: 0.2002 - accuracy: 0.9405\n",
            "Epoch 3/3\n",
            "625/625 [==============================] - 4s 6ms/step - loss: 0.1729 - accuracy: 0.9480\n",
            "313/313 [==============================] - 1s 3ms/step\n"
          ]
        },
        {
          "output_type": "stream",
          "name": "stderr",
          "text": [
            "/usr/local/lib/python3.10/dist-packages/scikeras/wrappers.py:915: UserWarning: ``build_fn`` will be renamed to ``model`` in a future release, at which point use of ``build_fn`` will raise an Error instead.\n",
            "  X, y = self._initialize(X, y)\n"
          ]
        },
        {
          "output_type": "stream",
          "name": "stdout",
          "text": [
            "Epoch 1/3\n",
            "625/625 [==============================] - 3s 4ms/step - loss: 0.3064 - accuracy: 0.9071\n",
            "Epoch 2/3\n",
            "625/625 [==============================] - 3s 4ms/step - loss: 0.2030 - accuracy: 0.9402\n",
            "Epoch 3/3\n",
            "625/625 [==============================] - 3s 4ms/step - loss: 0.1789 - accuracy: 0.9485\n",
            "313/313 [==============================] - 1s 2ms/step\n"
          ]
        },
        {
          "output_type": "stream",
          "name": "stderr",
          "text": [
            "/usr/local/lib/python3.10/dist-packages/scikeras/wrappers.py:915: UserWarning: ``build_fn`` will be renamed to ``model`` in a future release, at which point use of ``build_fn`` will raise an Error instead.\n",
            "  X, y = self._initialize(X, y)\n"
          ]
        },
        {
          "output_type": "stream",
          "name": "stdout",
          "text": [
            "Epoch 1/3\n",
            "625/625 [==============================] - 3s 4ms/step - loss: 0.6136 - accuracy: 0.8188\n",
            "Epoch 2/3\n",
            "625/625 [==============================] - 3s 4ms/step - loss: 0.3476 - accuracy: 0.8977\n",
            "Epoch 3/3\n",
            "625/625 [==============================] - 2s 3ms/step - loss: 0.2882 - accuracy: 0.9129\n",
            "313/313 [==============================] - 1s 2ms/step\n"
          ]
        },
        {
          "output_type": "stream",
          "name": "stderr",
          "text": [
            "/usr/local/lib/python3.10/dist-packages/scikeras/wrappers.py:915: UserWarning: ``build_fn`` will be renamed to ``model`` in a future release, at which point use of ``build_fn`` will raise an Error instead.\n",
            "  X, y = self._initialize(X, y)\n"
          ]
        },
        {
          "output_type": "stream",
          "name": "stdout",
          "text": [
            "Epoch 1/3\n",
            "625/625 [==============================] - 2s 3ms/step - loss: 0.6087 - accuracy: 0.8227\n",
            "Epoch 2/3\n",
            "625/625 [==============================] - 2s 4ms/step - loss: 0.3424 - accuracy: 0.9000\n",
            "Epoch 3/3\n",
            "625/625 [==============================] - 2s 3ms/step - loss: 0.2906 - accuracy: 0.9140\n",
            "313/313 [==============================] - 1s 2ms/step\n"
          ]
        },
        {
          "output_type": "stream",
          "name": "stderr",
          "text": [
            "/usr/local/lib/python3.10/dist-packages/scikeras/wrappers.py:915: UserWarning: ``build_fn`` will be renamed to ``model`` in a future release, at which point use of ``build_fn`` will raise an Error instead.\n",
            "  X, y = self._initialize(X, y)\n"
          ]
        },
        {
          "output_type": "stream",
          "name": "stdout",
          "text": [
            "Epoch 1/3\n",
            "625/625 [==============================] - 2s 3ms/step - loss: 0.6344 - accuracy: 0.8123\n",
            "Epoch 2/3\n",
            "625/625 [==============================] - 2s 3ms/step - loss: 0.3523 - accuracy: 0.8975\n",
            "Epoch 3/3\n",
            "625/625 [==============================] - 2s 3ms/step - loss: 0.2974 - accuracy: 0.9126\n",
            "313/313 [==============================] - 1s 2ms/step\n"
          ]
        },
        {
          "output_type": "stream",
          "name": "stderr",
          "text": [
            "/usr/local/lib/python3.10/dist-packages/scikeras/wrappers.py:915: UserWarning: ``build_fn`` will be renamed to ``model`` in a future release, at which point use of ``build_fn`` will raise an Error instead.\n",
            "  X, y = self._initialize(X, y)\n"
          ]
        },
        {
          "output_type": "stream",
          "name": "stdout",
          "text": [
            "Epoch 1/3\n",
            "625/625 [==============================] - 4s 5ms/step - loss: 0.4743 - accuracy: 0.8630\n",
            "Epoch 2/3\n",
            "625/625 [==============================] - 3s 4ms/step - loss: 0.2461 - accuracy: 0.9289\n",
            "Epoch 3/3\n",
            "625/625 [==============================] - 2s 3ms/step - loss: 0.1965 - accuracy: 0.9420\n",
            "313/313 [==============================] - 1s 2ms/step\n"
          ]
        },
        {
          "output_type": "stream",
          "name": "stderr",
          "text": [
            "/usr/local/lib/python3.10/dist-packages/scikeras/wrappers.py:915: UserWarning: ``build_fn`` will be renamed to ``model`` in a future release, at which point use of ``build_fn`` will raise an Error instead.\n",
            "  X, y = self._initialize(X, y)\n"
          ]
        },
        {
          "output_type": "stream",
          "name": "stdout",
          "text": [
            "Epoch 1/3\n",
            "625/625 [==============================] - 3s 3ms/step - loss: 0.4847 - accuracy: 0.8576\n",
            "Epoch 2/3\n",
            "625/625 [==============================] - 2s 4ms/step - loss: 0.2550 - accuracy: 0.9262\n",
            "Epoch 3/3\n",
            "625/625 [==============================] - 3s 5ms/step - loss: 0.1990 - accuracy: 0.9417\n",
            "313/313 [==============================] - 1s 3ms/step\n"
          ]
        },
        {
          "output_type": "stream",
          "name": "stderr",
          "text": [
            "/usr/local/lib/python3.10/dist-packages/scikeras/wrappers.py:915: UserWarning: ``build_fn`` will be renamed to ``model`` in a future release, at which point use of ``build_fn`` will raise an Error instead.\n",
            "  X, y = self._initialize(X, y)\n"
          ]
        },
        {
          "output_type": "stream",
          "name": "stdout",
          "text": [
            "Epoch 1/3\n",
            "625/625 [==============================] - 2s 3ms/step - loss: 0.5041 - accuracy: 0.8535\n",
            "Epoch 2/3\n",
            "625/625 [==============================] - 2s 3ms/step - loss: 0.2568 - accuracy: 0.9253\n",
            "Epoch 3/3\n",
            "625/625 [==============================] - 2s 3ms/step - loss: 0.2017 - accuracy: 0.9402\n",
            "313/313 [==============================] - 1s 3ms/step\n"
          ]
        },
        {
          "output_type": "stream",
          "name": "stderr",
          "text": [
            "/usr/local/lib/python3.10/dist-packages/scikeras/wrappers.py:915: UserWarning: ``build_fn`` will be renamed to ``model`` in a future release, at which point use of ``build_fn`` will raise an Error instead.\n",
            "  X, y = self._initialize(X, y)\n"
          ]
        },
        {
          "output_type": "stream",
          "name": "stdout",
          "text": [
            "Epoch 1/3\n",
            "625/625 [==============================] - 4s 5ms/step - loss: 0.4014 - accuracy: 0.8846\n",
            "Epoch 2/3\n",
            "625/625 [==============================] - 3s 4ms/step - loss: 0.1969 - accuracy: 0.9417\n",
            "Epoch 3/3\n",
            "625/625 [==============================] - 3s 4ms/step - loss: 0.1512 - accuracy: 0.9552\n",
            "313/313 [==============================] - 1s 2ms/step\n"
          ]
        },
        {
          "output_type": "stream",
          "name": "stderr",
          "text": [
            "/usr/local/lib/python3.10/dist-packages/scikeras/wrappers.py:915: UserWarning: ``build_fn`` will be renamed to ``model`` in a future release, at which point use of ``build_fn`` will raise an Error instead.\n",
            "  X, y = self._initialize(X, y)\n"
          ]
        },
        {
          "output_type": "stream",
          "name": "stdout",
          "text": [
            "Epoch 1/3\n",
            "625/625 [==============================] - 5s 7ms/step - loss: 0.3896 - accuracy: 0.8885\n",
            "Epoch 2/3\n",
            "625/625 [==============================] - 4s 6ms/step - loss: 0.1955 - accuracy: 0.9436\n",
            "Epoch 3/3\n",
            "625/625 [==============================] - 6s 9ms/step - loss: 0.1469 - accuracy: 0.9573\n",
            "313/313 [==============================] - 1s 4ms/step\n"
          ]
        },
        {
          "output_type": "stream",
          "name": "stderr",
          "text": [
            "/usr/local/lib/python3.10/dist-packages/scikeras/wrappers.py:915: UserWarning: ``build_fn`` will be renamed to ``model`` in a future release, at which point use of ``build_fn`` will raise an Error instead.\n",
            "  X, y = self._initialize(X, y)\n"
          ]
        },
        {
          "output_type": "stream",
          "name": "stdout",
          "text": [
            "Epoch 1/3\n",
            "625/625 [==============================] - 7s 9ms/step - loss: 0.4004 - accuracy: 0.8859\n",
            "Epoch 2/3\n",
            "625/625 [==============================] - 5s 8ms/step - loss: 0.1906 - accuracy: 0.9454\n",
            "Epoch 3/3\n",
            "625/625 [==============================] - 6s 10ms/step - loss: 0.1455 - accuracy: 0.9568\n",
            "313/313 [==============================] - 2s 4ms/step\n"
          ]
        },
        {
          "output_type": "stream",
          "name": "stderr",
          "text": [
            "/usr/local/lib/python3.10/dist-packages/scikeras/wrappers.py:915: UserWarning: ``build_fn`` will be renamed to ``model`` in a future release, at which point use of ``build_fn`` will raise an Error instead.\n",
            "  X, y = self._initialize(X, y)\n"
          ]
        },
        {
          "output_type": "stream",
          "name": "stdout",
          "text": [
            "Epoch 1/3\n",
            "938/938 [==============================] - 7s 6ms/step - loss: 0.3424 - accuracy: 0.9011\n",
            "Epoch 2/3\n",
            "938/938 [==============================] - 8s 8ms/step - loss: 0.1643 - accuracy: 0.9510\n",
            "Epoch 3/3\n",
            "938/938 [==============================] - 8s 8ms/step - loss: 0.1217 - accuracy: 0.9642\n"
          ]
        }
      ]
    },
    {
      "cell_type": "code",
      "source": [
        "print(gridResult.best_params_)\n",
        "print(gridResult.best_score_)"
      ],
      "metadata": {
        "colab": {
          "base_uri": "https://localhost:8080/"
        },
        "id": "z8xSpYAVYWHD",
        "outputId": "c431c377-1dd0-4bbc-8b9a-92ac596db40e"
      },
      "execution_count": null,
      "outputs": [
        {
          "output_type": "stream",
          "name": "stdout",
          "text": [
            "{'learning_rate': 0.001, 'num_units': 128}\n",
            "0.9608500000000001\n"
          ]
        }
      ]
    },
    {
      "cell_type": "code",
      "source": [
        "bestModel = gridResult.best_estimator_\n",
        "y_pred = bestModel.predict(x_test)\n",
        "accuracy = accuracy_score(y_test, y_pred)\n",
        "print(accuracy)"
      ],
      "metadata": {
        "colab": {
          "base_uri": "https://localhost:8080/"
        },
        "id": "QiyHbiCJatxF",
        "outputId": "723042e5-39b9-4eda-9445-4f69dc5950c9"
      },
      "execution_count": null,
      "outputs": [
        {
          "output_type": "stream",
          "name": "stdout",
          "text": [
            "157/157 [==============================] - 0s 2ms/step\n",
            "0.9699\n"
          ]
        }
      ]
    },
    {
      "cell_type": "markdown",
      "source": [
        "### **Optimization Techniques Comparision (Exp4)**"
      ],
      "metadata": {
        "id": "1Yq7jkN8bpQi"
      }
    },
    {
      "cell_type": "code",
      "source": [
        "import matplotlib.pyplot as plt\n",
        "import tensorflow as tf\n",
        "from tensorflow.keras.datasets import mnist\n",
        "\n",
        "\n",
        "(x_train, y_train), (x_test, y_test) = mnist.load_data()\n",
        "x_train = x_train / 255.0\n",
        "x_test = x_test / 255.0\n",
        "\n",
        "def CreateModel(optimizerModel):\n",
        "  model = tf.keras.Sequential([\n",
        "      tf.keras.layers.Flatten(input_shape=(28,28)),\n",
        "      tf.keras.layers.Dense(128, activation=\"relu\"),\n",
        "      tf.keras.layers.Dropout(0.2),\n",
        "      tf.keras.layers.Dense(10, activation=\"softmax\")\n",
        "  ])\n",
        "  model.compile(optimizer=optimizerModel, loss=\"sparse_categorical_crossentropy\", metrics=['accuracy'])\n",
        "  return model\n",
        "\n",
        "optimizers = {\n",
        "    \"SGD\": tf.keras.optimizers.SGD(),\n",
        "    \"Momentum\": tf.keras.optimizers.SGD(momentum=0.9),\n",
        "    \"Nesterov\": tf.keras.optimizers.SGD(momentum=0.9, nesterov=True),\n",
        "    \"RMS Prop\": tf.keras.optimizers.RMSprop(),\n",
        "    \"AdaGrad\": tf.keras.optimizers.Adagrad(),\n",
        "    \"Adam\": tf.keras.optimizers.Adam()\n",
        "}\n",
        "\n",
        "accuracies = {}\n",
        "\n",
        "for name, optimizerModel in optimizers.items():\n",
        "  model = CreateModel(optimizerModel)\n",
        "  model = model.fit(x_train, y_train, epochs=50, validation_data=(x_test, y_test), verbose=0)\n",
        "  accuracies[name] = model.history[\"accuracy\"]"
      ],
      "metadata": {
        "id": "mfNGAjzubxtE"
      },
      "execution_count": null,
      "outputs": []
    },
    {
      "cell_type": "code",
      "source": [
        "print(accuracies)"
      ],
      "metadata": {
        "colab": {
          "base_uri": "https://localhost:8080/"
        },
        "id": "tPmlhdkKgY8i",
        "outputId": "40e73f5a-2f9c-4215-cc21-89ef4598373c"
      },
      "execution_count": null,
      "outputs": [
        {
          "output_type": "stream",
          "name": "stdout",
          "text": [
            "{'SGD': [0.798966646194458, 0.8896333575248718, 0.9062333106994629, 0.9172666668891907, 0.9255833625793457, 0.9318166375160217, 0.9362000226974487, 0.940833330154419, 0.9426500201225281, 0.9465166926383972, 0.949400007724762, 0.9505333304405212, 0.953083336353302, 0.9540500044822693, 0.9573333263397217, 0.9574999809265137, 0.9589999914169312, 0.9614666700363159, 0.9620000123977661, 0.9623000025749207, 0.9642000198364258, 0.9654333591461182, 0.9662500023841858, 0.9667999744415283, 0.9677500128746033, 0.9675833582878113, 0.9692333340644836, 0.97038334608078, 0.9696333408355713, 0.9706833362579346, 0.9714000225067139, 0.972599983215332, 0.9721166491508484, 0.9725666642189026, 0.9732166528701782, 0.9740999937057495, 0.9739999771118164, 0.9738333225250244, 0.9750166535377502, 0.9741166830062866, 0.9759500026702881, 0.9760833382606506, 0.975266695022583, 0.9765999913215637, 0.9771166443824768, 0.9778000116348267, 0.9778833389282227, 0.9778833389282227, 0.977816641330719, 0.9780666828155518], 'Momentum': [0.9024333357810974, 0.9491999745368958, 0.9601666927337646, 0.9661333560943604, 0.9705833196640015, 0.9722833037376404, 0.9752833247184753, 0.9768999814987183, 0.9788166880607605, 0.9809499979019165, 0.981416642665863, 0.9821000099182129, 0.9833499789237976, 0.9840166568756104, 0.9852499961853027, 0.9851333498954773, 0.9860333204269409, 0.9869166612625122, 0.9871666431427002, 0.9878666400909424, 0.9886666536331177, 0.9883666634559631, 0.9892833232879639, 0.9890000224113464, 0.9896666407585144, 0.9903500080108643, 0.9901333451271057, 0.9914166927337646, 0.9913666844367981, 0.991183340549469, 0.9907500147819519, 0.9916499853134155, 0.9914666414260864, 0.9924833178520203, 0.9924166798591614, 0.9920166730880737, 0.9921333193778992, 0.9923499822616577, 0.9933500289916992, 0.9931333065032959, 0.9936000108718872, 0.9933833479881287, 0.9939500093460083, 0.9943166375160217, 0.9936333298683167, 0.9938833117485046, 0.9938499927520752, 0.9941166639328003, 0.9940000176429749, 0.994700014591217], 'Nesterov': [0.8990833163261414, 0.9493333101272583, 0.9616166949272156, 0.9658166766166687, 0.9703333377838135, 0.9728333353996277, 0.9752333164215088, 0.9782166481018066, 0.9787333607673645, 0.9800333380699158, 0.9816166758537292, 0.982616662979126, 0.9838666915893555, 0.984000027179718, 0.9850666522979736, 0.9855666756629944, 0.9868833422660828, 0.9870833158493042, 0.986466646194458, 0.9884333610534668, 0.9888499975204468, 0.9876833558082581, 0.9892666935920715, 0.9896833300590515, 0.9904833436012268, 0.9903500080108643, 0.9913166761398315, 0.9906499981880188, 0.9907500147819519, 0.9918000102043152, 0.9921666383743286, 0.991683304309845, 0.9917333126068115, 0.9919499754905701, 0.9928666949272156, 0.9929333329200745, 0.9929500222206116, 0.9926833510398865, 0.9934666752815247, 0.9933666586875916, 0.9940999746322632, 0.9933000206947327, 0.9935500025749207, 0.9938666820526123, 0.9938333630561829, 0.9940000176429749, 0.9937499761581421, 0.9942833185195923, 0.9953500032424927, 0.9947500228881836], 'RMS Prop': [0.9144499897956848, 0.956333339214325, 0.9649166464805603, 0.9694833159446716, 0.9728166460990906, 0.9746999740600586, 0.9774333238601685, 0.9784500002861023, 0.9799333214759827, 0.9810500144958496, 0.9818333387374878, 0.982783317565918, 0.9831666946411133, 0.9836500287055969, 0.9848166704177856, 0.9853000044822693, 0.9854000210762024, 0.9854999780654907, 0.9865999817848206, 0.9863666892051697, 0.9871666431427002, 0.9879833459854126, 0.9879500269889832, 0.98785001039505, 0.9876000285148621, 0.9884166717529297, 0.9882500171661377, 0.9886166453361511, 0.9891666769981384, 0.989383339881897, 0.9890833497047424, 0.989983320236206, 0.9902999997138977, 0.9903666377067566, 0.9907000064849854, 0.991183340549469, 0.9906499981880188, 0.9905833601951599, 0.9904333353042603, 0.9911999702453613, 0.9914500117301941, 0.9914166927337646, 0.9912333488464355, 0.9918000102043152, 0.9921666383743286, 0.9919000267982483, 0.9916166663169861, 0.9914000034332275, 0.9923333525657654, 0.9924166798591614], 'AdaGrad': [0.6680999994277954, 0.8174333572387695, 0.843583345413208, 0.8572999835014343, 0.8670499920845032, 0.8715166449546814, 0.8772000074386597, 0.8817166686058044, 0.8849499821662903, 0.8883500099182129, 0.8891500234603882, 0.8917833566665649, 0.8944833278656006, 0.8963833451271057, 0.8981166481971741, 0.899233341217041, 0.9023500084877014, 0.9035166501998901, 0.9047999978065491, 0.9046666622161865, 0.9056000113487244, 0.9074333310127258, 0.9071499705314636, 0.910266637802124, 0.911133348941803, 0.9116500020027161, 0.9121999740600586, 0.9135500192642212, 0.9140333533287048, 0.9143333435058594, 0.9158666729927063, 0.9161333441734314, 0.9169999957084656, 0.9164166450500488, 0.9192000031471252, 0.9177833199501038, 0.9180999994277954, 0.9194166660308838, 0.9198333621025085, 0.9208166599273682, 0.9209333062171936, 0.9223666787147522, 0.9218000173568726, 0.9229166507720947, 0.9227833151817322, 0.9241833090782166, 0.9238333106040955, 0.923966646194458, 0.9243833422660828, 0.9239166378974915], 'Adam': [0.915233314037323, 0.9571833610534668, 0.9672499895095825, 0.9727166891098022, 0.9760500192642212, 0.9792666435241699, 0.9807833433151245, 0.982616662979126, 0.9846166372299194, 0.9851833581924438, 0.985966682434082, 0.9865333437919617, 0.9876833558082581, 0.9869499802589417, 0.9884166717529297, 0.9890999794006348, 0.9904500246047974, 0.9908499717712402, 0.9905833601951599, 0.9904166460037231, 0.9912166595458984, 0.9912833571434021, 0.9916999936103821, 0.991266667842865, 0.9925166964530945, 0.9919333457946777, 0.9923166632652283, 0.9922500252723694, 0.993149995803833, 0.9923833608627319, 0.9928666949272156, 0.9933500289916992, 0.9933500289916992, 0.9934499859809875, 0.993233323097229, 0.9944499731063843, 0.9938833117485046, 0.9944000244140625, 0.9934333562850952, 0.9940500259399414, 0.9945666790008545, 0.9941166639328003, 0.9944000244140625, 0.9944000244140625, 0.9941666722297668, 0.9948166608810425, 0.994183361530304, 0.994350016117096, 0.9946333169937134, 0.994700014591217]}\n"
          ]
        }
      ]
    },
    {
      "cell_type": "code",
      "source": [
        "for name, epochAccuracy in accuracies.items():\n",
        "  plt.plot(epochAccuracy, label=name)\n",
        "plt.xlabel(\"Epochs\")\n",
        "plt.ylabel(\"Accuracy\")\n",
        "plt.title(\"Epochs v/s Accuracy\")\n",
        "plt.legend()\n",
        "plt.show()"
      ],
      "metadata": {
        "colab": {
          "base_uri": "https://localhost:8080/",
          "height": 472
        },
        "id": "hubl4iWRhU6g",
        "outputId": "7067f3df-ffad-49fc-ba15-98122e8762ac"
      },
      "execution_count": null,
      "outputs": [
        {
          "output_type": "display_data",
          "data": {
            "text/plain": [
              "<Figure size 640x480 with 1 Axes>"
            ],
            "image/png": "[encoded data removed]"
          },
          "metadata": {}
        }
      ]
    },
    {
      "cell_type": "markdown",
      "source": [
        "### **Regularization Techniques (Exp6)**"
      ],
      "metadata": {
        "id": "a8JW3ZSkin3a"
      }
    },
    {
      "cell_type": "code",
      "source": [
        "import tensorflow as tf\n",
        "from  tensorflow.keras.datasets import mnist\n",
        "from sklearn.metrics import accuracy_score\n",
        "\n",
        "(x_train, y_train), (x_test, y_test) = mnist.load_data()\n",
        "x_train = x_train/255.0\n",
        "x_test = x_test/255.0"
      ],
      "metadata": {
        "id": "j7dlmJNDjDlp"
      },
      "execution_count": null,
      "outputs": []
    },
    {
      "cell_type": "code",
      "source": [
        "def varyRegularizer(regularizer):\n",
        "  model = tf.keras.Sequential([\n",
        "      tf.keras.layers.Flatten(input_shape=(28,28)),\n",
        "  ])\n",
        "\n",
        "  if regularizer == \"L1\":\n",
        "    model.add(tf.keras.layers.Dense(128, activation=\"relu\", kernel_regularizer=\"l1\"))\n",
        "  elif regularizer == \"L2\":\n",
        "    model.add(tf.keras.layers.Dense(128, activation=\"relu\", kernel_regularizer=\"l2\"))\n",
        "  elif regularizer == \"Dropout\":\n",
        "    model.add(tf.keras.layers.Dense(128, activation=\"relu\"))\n",
        "    model.add(tf.keras.layers.Dropout(0.2))\n",
        "  else:\n",
        "    model.add(tf.keras.layers.Dense(128, activation=\"relu\"))\n",
        "  model.add(tf.keras.layers.Dense(10, activation=\"softmax\"))\n",
        "  return model\n",
        "\n",
        "regularizers = [\"L1\", \"L2\", \"Dropout\"]\n",
        "for regularizer in regularizers:\n",
        "  model = varyRegularizer(regularizer)\n",
        "  model.compile(loss=\"sparse_categorical_crossentropy\", optimizer=\"adam\", metrics=[\"accuracy\"])\n",
        "  model.fit(x_train, y_train, epochs=5, verbose=0)\n",
        "  loss, accuracy = model.evaluate(x_test, y_test)\n",
        "  print(regularizer, accuracy, sep=\" : \")\n",
        "\n",
        "# Early Stopping\n",
        "\n",
        "model = varyRegularizer(\"Early Stopping\")\n",
        "model.compile(loss=\"sparse_categorical_crossentropy\", optimizer=\"adam\", metrics=[\"accuracy\"])\n",
        "model.fit(x_train, y_train, epochs=5, callbacks=[tf.keras.callbacks.EarlyStopping(monitor=\"accuracy\", patience=2)], verbose=0)\n",
        "loss, accuracy = model.evaluate(x_test, y_test)\n",
        "print(\"Early Stopping\", accuracy, sep=\" : \")"
      ],
      "metadata": {
        "colab": {
          "base_uri": "https://localhost:8080/"
        },
        "id": "Be7jueMLmCgo",
        "outputId": "c0ea92c8-eb7e-4834-9981-0c1e7d6620a3"
      },
      "execution_count": null,
      "outputs": [
        {
          "output_type": "stream",
          "name": "stdout",
          "text": [
            "313/313 [==============================] - 1s 2ms/step - loss: 0.9027 - accuracy: 0.8828\n",
            "L1 : 0.8827999830245972\n",
            "313/313 [==============================] - 1s 2ms/step - loss: 0.2950 - accuracy: 0.9539\n",
            "L2 : 0.9538999795913696\n",
            "313/313 [==============================] - 1s 3ms/step - loss: 0.0718 - accuracy: 0.9781\n",
            "Dropout : 0.9781000018119812\n",
            "313/313 [==============================] - 1s 2ms/step - loss: 0.0736 - accuracy: 0.9777\n",
            "Early Stopping : 0.9776999950408936\n"
          ]
        }
      ]
    },
    {
      "cell_type": "markdown",
      "source": [
        "### **Denoising AutoEncoders (Exp 5)**"
      ],
      "metadata": {
        "id": "WJbrEqfFzrXV"
      }
    },
    {
      "cell_type": "code",
      "source": [
        "import numpy as np\n",
        "import tensorflow as tf\n",
        "from tensorflow.keras.layers import Conv2D, Conv2DTranspose, BatchNormalization\n",
        "from tensorflow.keras.datasets import mnist\n",
        "import matplotlib.pyplot as plt"
      ],
      "metadata": {
        "id": "_0W8Y-9uz1Z9"
      },
      "execution_count": null,
      "outputs": []
    },
    {
      "cell_type": "code",
      "source": [
        "(x_train, y_train), (x_test, y_test) = mnist.load_data()\n",
        "\n",
        "x_train = x_train / 255.0\n",
        "x_test = x_test / 255.0"
      ],
      "metadata": {
        "id": "r3nXPB084Hpe"
      },
      "execution_count": null,
      "outputs": []
    },
    {
      "cell_type": "code",
      "source": [
        "for i in range(4):\n",
        "  plt.subplot(2, 2, i+1)\n",
        "  plt.imshow(x_train[i], cmap=plt.cm.binary)"
      ],
      "metadata": {
        "colab": {
          "base_uri": "https://localhost:8080/",
          "height": 432
        },
        "id": "GBXYrKRq4dxF",
        "outputId": "c9f70736-a257-46b5-bc3e-4fdccebc67da"
      },
      "execution_count": null,
      "outputs": [
        {
          "output_type": "display_data",
          "data": {
            "text/plain": [
              "<Figure size 640x480 with 4 Axes>"
            ],
            "image/png": "[encoded data removed]"
          },
          "metadata": {}
        }
      ]
    },
    {
      "cell_type": "code",
      "source": [
        "factor = 0.5\n",
        "\n",
        "x_train_noisy = x_train + factor*np.random.normal(loc=0.0, scale=1.0, size=x_train.shape)\n",
        "x_test_noisy = x_test + factor*np.random.normal(loc=0.0, scale=1.0, size=x_test.shape)\n",
        "\n",
        "x_train_noisy = np.clip(x_train_noisy, 0, 255)\n",
        "x_test_noisy = np.clip(x_test_noisy, 0, 255)"
      ],
      "metadata": {
        "id": "4-lv_cRd7UGl"
      },
      "execution_count": null,
      "outputs": []
    },
    {
      "cell_type": "code",
      "source": [
        "for i in range(4):\n",
        "  plt.subplot(2,2,i+1)\n",
        "  plt.imshow(x_train_noisy[i].reshape(1, 28, 28)[0], cmap=plt.cm.binary)"
      ],
      "metadata": {
        "colab": {
          "base_uri": "https://localhost:8080/",
          "height": 432
        },
        "id": "FTPN2dfy53-T",
        "outputId": "759693e3-3d55-488a-a1bf-30870f67adfc"
      },
      "execution_count": null,
      "outputs": [
        {
          "output_type": "display_data",
          "data": {
            "text/plain": [
              "<Figure size 640x480 with 4 Axes>"
            ],
            "image/png": "[encoded data removed]"
          },
          "metadata": {}
        }
      ]
    },
    {
      "cell_type": "code",
      "source": [
        "params = {\n",
        "    \"padding\": \"same\",\n",
        "    \"activation\": \"relu\"\n",
        "}\n",
        "\n",
        "model = tf.keras.Sequential([\n",
        "\n",
        "    Conv2D(16, (3, 3), **params, input_shape=(28, 28, 1)),\n",
        "    BatchNormalization(),\n",
        "    Conv2D(32, (3, 3), **params),\n",
        "    BatchNormalization(),\n",
        "    Conv2D(64, (3, 3), **params),\n",
        "\n",
        "    Conv2DTranspose(64, (3, 3), **params),\n",
        "    BatchNormalization(),\n",
        "    Conv2DTranspose(32, (3, 3), **params),\n",
        "    BatchNormalization(),\n",
        "    Conv2DTranspose(16, (3, 3), **params),\n",
        "\n",
        "    Conv2D(1, (3, 3), **params)\n",
        "\n",
        "])"
      ],
      "metadata": {
        "id": "wMPSnPqcERUl"
      },
      "execution_count": null,
      "outputs": []
    },
    {
      "cell_type": "code",
      "source": [
        "model.compile(optimizer=\"adam\", loss=\"mean_squared_error\", metrics=[\"accuracy\"])\n",
        "model.summary()"
      ],
      "metadata": {
        "colab": {
          "base_uri": "https://localhost:8080/"
        },
        "id": "NwK444PYGzeP",
        "outputId": "4206e9ff-9f6d-4615-a395-be12e55a94fa"
      },
      "execution_count": null,
      "outputs": [
        {
          "output_type": "stream",
          "name": "stdout",
          "text": [
            "Model: \"sequential\"\n",
            "_________________________________________________________________\n",
            " Layer (type)                Output Shape              Param #   \n",
            "=================================================================\n",
            " conv2d (Conv2D)             (None, 28, 28, 16)        160       \n",
            "                                                                 \n",
            " batch_normalization (Batch  (None, 28, 28, 16)        64        \n",
            " Normalization)                                                  \n",
            "                                                                 \n",
            " conv2d_1 (Conv2D)           (None, 28, 28, 32)        4640      \n",
            "                                                                 \n",
            " batch_normalization_1 (Bat  (None, 28, 28, 32)        128       \n",
            " chNormalization)                                                \n",
            "                                                                 \n",
            " conv2d_2 (Conv2D)           (None, 28, 28, 64)        18496     \n",
            "                                                                 \n",
            " conv2d_transpose (Conv2DTr  (None, 28, 28, 64)        36928     \n",
            " anspose)                                                        \n",
            "                                                                 \n",
            " batch_normalization_2 (Bat  (None, 28, 28, 64)        256       \n",
            " chNormalization)                                                \n",
            "                                                                 \n",
            " conv2d_transpose_1 (Conv2D  (None, 28, 28, 32)        18464     \n",
            " Transpose)                                                      \n",
            "                                                                 \n",
            " batch_normalization_3 (Bat  (None, 28, 28, 32)        128       \n",
            " chNormalization)                                                \n",
            "                                                                 \n",
            " conv2d_transpose_2 (Conv2D  (None, 28, 28, 16)        4624      \n",
            " Transpose)                                                      \n",
            "                                                                 \n",
            " conv2d_3 (Conv2D)           (None, 28, 28, 1)         145       \n",
            "                                                                 \n",
            "=================================================================\n",
            "Total params: 84033 (328.25 KB)\n",
            "Trainable params: 83745 (327.13 KB)\n",
            "Non-trainable params: 288 (1.12 KB)\n",
            "_________________________________________________________________\n"
          ]
        }
      ]
    },
    {
      "cell_type": "code",
      "source": [
        "history = model.fit(x_train_noisy, x_train, epochs=5, batch_size=256, validation_data=(x_test_noisy, x_test))"
      ],
      "metadata": {
        "colab": {
          "base_uri": "https://localhost:8080/"
        },
        "id": "D4T49SgBHEv4",
        "outputId": "e6e684f8-510f-442d-e91b-a74b5d733fc1"
      },
      "execution_count": null,
      "outputs": [
        {
          "output_type": "stream",
          "name": "stdout",
          "text": [
            "Epoch 1/5\n",
            "235/235 [==============================] - 21s 53ms/step - loss: 0.0244 - accuracy: 0.8088 - val_loss: 0.0431 - val_accuracy: 0.8112\n",
            "Epoch 2/5\n",
            "235/235 [==============================] - 11s 46ms/step - loss: 0.0123 - accuracy: 0.8131 - val_loss: 0.0117 - val_accuracy: 0.8128\n",
            "Epoch 3/5\n",
            "235/235 [==============================] - 11s 47ms/step - loss: 0.0115 - accuracy: 0.8134 - val_loss: 0.0117 - val_accuracy: 0.8119\n",
            "Epoch 4/5\n",
            "235/235 [==============================] - 11s 48ms/step - loss: 0.0111 - accuracy: 0.8135 - val_loss: 0.0110 - val_accuracy: 0.8128\n",
            "Epoch 5/5\n",
            "235/235 [==============================] - 11s 46ms/step - loss: 0.0108 - accuracy: 0.8136 - val_loss: 0.0109 - val_accuracy: 0.8123\n"
          ]
        }
      ]
    },
    {
      "cell_type": "code",
      "source": [
        "plt.figure(figsize=(10, 10))\n",
        "for i in range(4):\n",
        "  plt.subplot(5, 5, i+1)\n",
        "  plt.imshow(model.predict(x_test_noisy[i].reshape(1,28,28,1)).reshape(1,28,28)[0], cmap=plt.cm.binary)"
      ],
      "metadata": {
        "id": "9KMNEFDxI95n",
        "colab": {
          "base_uri": "https://localhost:8080/",
          "height": 265
        },
        "outputId": "a8c9fce7-5be0-41a4-cfee-007544a04650"
      },
      "execution_count": null,
      "outputs": [
        {
          "output_type": "stream",
          "name": "stdout",
          "text": [
            "1/1 [==============================] - 0s 83ms/step\n",
            "1/1 [==============================] - 0s 21ms/step\n",
            "1/1 [==============================] - 0s 20ms/step\n",
            "1/1 [==============================] - 0s 23ms/step\n"
          ]
        },
        {
          "output_type": "display_data",
          "data": {
            "text/plain": [
              "<Figure size 1000x1000 with 4 Axes>"
            ],
            "image/png": "[encoded data removed]"
          },
          "metadata": {}
        }
      ]
    },
    {
      "cell_type": "markdown",
      "source": [
        "### **VGG16 and AlexNet (Exp 7)**"
      ],
      "metadata": {
        "id": "RuwlhoSqm--A"
      }
    },
    {
      "cell_type": "code",
      "source": [
        "import tensorflow as tf\n",
        "import tensorflow_datasets as tfds\n",
        "from tensorflow.keras.layers import Conv2D, MaxPooling2D, Dense, Dropout, Flatten\n",
        "from tensorflow.keras.utils import to_categorical\n",
        "import matplotlib.pyplot as plt"
      ],
      "metadata": {
        "id": "NTlEGnMsnG8n"
      },
      "execution_count": null,
      "outputs": []
    },
    {
      "cell_type": "code",
      "source": [
        "(x_train, y_train), (x_test, y_test) = tfds.load(\"tf_flowers\", split=[\"train[:70%]\", \"train[:30%]\"], as_supervised=True, batch_size=-1)\n",
        "\n",
        "x_train = tf.image.resize(x_train, (300, 300))\n",
        "x_test = tf.image.resize(x_test, (300, 300))\n",
        "\n",
        "y_train = to_categorical(y_train, num_classes=5)\n",
        "y_test = to_categorical(y_test, num_classes=5)"
      ],
      "metadata": {
        "id": "X1lkJmR7pcHX"
      },
      "execution_count": null,
      "outputs": []
    },
    {
      "cell_type": "code",
      "source": [
        "EPOCHS = PATIENCE = 3\n",
        "\n",
        "params = {\n",
        "    \"strides\": (1,1),\n",
        "    \"kernel_size\": (3,3),\n",
        "    \"padding\": \"same\",\n",
        "    \"activation\": \"relu\"\n",
        "}\n",
        "\n",
        "model = tf.keras.Sequential([\n",
        "    Conv2D(96, kernel_size=(11, 11), strides=(4, 4), activation=\"relu\", input_shape=x_train[0].shape),\n",
        "    MaxPooling2D(pool_size=(3, 3), strides=(2, 2)),\n",
        "    Conv2D(256, kernel_size=(5, 5), strides=(1, 1), activation=\"relu\", padding=\"same\"),\n",
        "    MaxPooling2D(pool_size=(3, 3), strides=(2, 2)),\n",
        "    Conv2D(384, **params),\n",
        "    Conv2D(384, **params),\n",
        "    Conv2D(256, **params),\n",
        "    MaxPooling2D(pool_size=(3, 3), strides=(2, 2)),\n",
        "    Flatten(),\n",
        "    Dense(4096, activation=\"relu\"),\n",
        "    Dropout(0.5),\n",
        "    Dense(4096, activation=\"relu\"),\n",
        "    Dropout(0.5),\n",
        "    Dense(5, activation=\"softmax\")\n",
        "])\n",
        "\n",
        "x_train = x_train / 255\n",
        "x_test = x_test / 255\n",
        "\n",
        "model.compile(loss=tf.keras.losses.CategoricalCrossentropy(), optimizer=\"adam\", metrics=[\"accuracy\"])\n",
        "es = tf.keras.callbacks.EarlyStopping(monitor=\"val_accuracy\", patience=PATIENCE, restore_best_weights=True, mode=\"max\")\n",
        "alexHistory = model.fit(x_train, y_train, epochs=EPOCHS, validation_split=0.2, batch_size=64, callbacks=[es])"
      ],
      "metadata": {
        "id": "P-JTyJsnnmwK",
        "colab": {
          "base_uri": "https://localhost:8080/"
        },
        "outputId": "edcf41be-e782-4e05-ce58-f8780f334c33"
      },
      "execution_count": null,
      "outputs": [
        {
          "output_type": "stream",
          "name": "stdout",
          "text": [
            "Epoch 1/3\n",
            "33/33 [==============================] - 25s 254ms/step - loss: 1.7094 - accuracy: 0.2477 - val_loss: 1.6035 - val_accuracy: 0.2490\n",
            "Epoch 2/3\n",
            "33/33 [==============================] - 5s 151ms/step - loss: 1.6015 - accuracy: 0.2487 - val_loss: 1.6050 - val_accuracy: 0.2490\n",
            "Epoch 3/3\n",
            "33/33 [==============================] - 5s 151ms/step - loss: 1.6005 - accuracy: 0.2487 - val_loss: 1.6087 - val_accuracy: 0.2490\n"
          ]
        }
      ]
    },
    {
      "cell_type": "code",
      "source": [
        "plt.plot(alexHistory.history[\"accuracy\"], label=\"Accuracy\")\n",
        "plt.plot(alexHistory.history[\"val_accuracy\"], label=\"Val Accuracy\")\n",
        "plt.legend()\n",
        "plt.show()"
      ],
      "metadata": {
        "colab": {
          "base_uri": "https://localhost:8080/",
          "height": 430
        },
        "id": "yM7W8CeDsUlo",
        "outputId": "a59649ae-dca6-4754-b1dd-5976f780e0b1"
      },
      "execution_count": null,
      "outputs": [
        {
          "output_type": "display_data",
          "data": {
            "text/plain": [
              "<Figure size 640x480 with 1 Axes>"
            ],
            "image/png": "[encoded data removed]"
          },
          "metadata": {}
        }
      ]
    },
    {
      "cell_type": "code",
      "source": [
        "from tensorflow.keras.applications.vgg16 import VGG16, preprocess_input\n",
        "\n",
        "vgg = VGG16(weights=\"imagenet\", include_top=False, input_shape=x_train[0].shape)\n",
        "vgg.trainable = False"
      ],
      "metadata": {
        "id": "X5Srffoa2QI6"
      },
      "execution_count": null,
      "outputs": []
    },
    {
      "cell_type": "code",
      "source": [
        "x_train = preprocess_input(x_train)\n",
        "x_test = preprocess_input(x_test)"
      ],
      "metadata": {
        "id": "NVaKoHqh47Ue"
      },
      "execution_count": null,
      "outputs": []
    },
    {
      "cell_type": "code",
      "source": [
        "model = tf.keras.Sequential([\n",
        "    vgg,\n",
        "    Flatten(),\n",
        "    Dense(50, activation=\"relu\"),\n",
        "    Dense(20, activation=\"relu\"),\n",
        "    Dense(5, activation=\"softmax\")\n",
        "])\n",
        "\n",
        "model.compile(loss=\"categorical_crossentropy\", metrics=[\"accuracy\"], optimizer=\"adam\")\n",
        "vggHistory = model.fit(x_train, y_train, epochs=20, batch_size=64, validation_split=0.2, callbacks=[es])"
      ],
      "metadata": {
        "id": "tMq6nQKK5UO5"
      },
      "execution_count": null,
      "outputs": []
    },
    {
      "cell_type": "code",
      "source": [
        "plt.plot(vggHistory.history[\"accuracy\"], label=\"Accuracy\")\n",
        "plt.plot(vggHistory.history[\"val_accuracy\"], label=\"Val Accuracy\")\n",
        "plt.legend()\n",
        "plt.show()"
      ],
      "metadata": {
        "id": "oJWLu_qv614F"
      },
      "execution_count": null,
      "outputs": []
    },
    {
      "cell_type": "code",
      "source": [
        "plt.plot(alexHistory.history[\"val_accuracy\"], label=\"Accuracy\")\n",
        "plt.plot(vggHistory.history[\"val_accuracy\"], label=\"Val Accuracy\")\n",
        "plt.legend()\n",
        "plt.show()"
      ],
      "metadata": {
        "id": "Nks3fxKu7oi1"
      },
      "execution_count": null,
      "outputs": []
    },
    {
      "cell_type": "markdown",
      "source": [
        "### **RNN for text generation (Exp 9)**"
      ],
      "metadata": {
        "id": "GUhp17XxmeaC"
      }
    },
    {
      "cell_type": "code",
      "source": [
        "import numpy as np\n",
        "import tensorflow as tf\n",
        "from tensorflow.keras.preprocessing.sequence import pad_sequences\n",
        "from tensorflow.keras.preprocessing.text import Tokenizer\n",
        "from tensorflow.keras.layers import LSTM, Bidirectional, Dense, Embedding"
      ],
      "metadata": {
        "id": "QN3iz3prmnUR"
      },
      "execution_count": 5,
      "outputs": []
    },
    {
      "cell_type": "code",
      "source": [
        "inputText = \"Kiran Deep is a Good boy\\nHe is well know for his popularity\\nHe is a gamer and a passionate something that you say\"\n",
        "\n",
        "corpus = inputText.lower().split(\"\\n\")\n",
        "tk = Tokenizer()\n",
        "tk.fit_on_texts(corpus)\n",
        "n = len(tk.word_index) + 1"
      ],
      "metadata": {
        "id": "vwC4YOk9oaKT"
      },
      "execution_count": 4,
      "outputs": []
    },
    {
      "cell_type": "code",
      "source": [
        "inputSeq = []\n",
        "\n",
        "for line in corpus:\n",
        "  tokenList = tk.texts_to_sequences([line])[0]\n",
        "  for i in range(1, len(tokenList)):\n",
        "    inputSeq.append(tokenList[:i+1])\n",
        "print(inputSeq)"
      ],
      "metadata": {
        "colab": {
          "base_uri": "https://localhost:8080/"
        },
        "id": "S6XVP9lApSIt",
        "outputId": "c32f3814-6d15-4b0c-9158-eda4380310dd"
      },
      "execution_count": 21,
      "outputs": [
        {
          "output_type": "stream",
          "name": "stdout",
          "text": [
            "[[4, 5], [4, 5, 1], [4, 5, 1, 2], [4, 5, 1, 2, 6], [4, 5, 1, 2, 6, 7], [3, 1], [3, 1, 8], [3, 1, 8, 9], [3, 1, 8, 9, 10], [3, 1, 8, 9, 10, 11], [3, 1, 8, 9, 10, 11, 12], [3, 1], [3, 1, 2], [3, 1, 2, 13], [3, 1, 2, 13, 14], [3, 1, 2, 13, 14, 2], [3, 1, 2, 13, 14, 2, 15], [3, 1, 2, 13, 14, 2, 15, 16], [3, 1, 2, 13, 14, 2, 15, 16, 17], [3, 1, 2, 13, 14, 2, 15, 16, 17, 18], [3, 1, 2, 13, 14, 2, 15, 16, 17, 18, 19]]\n"
          ]
        }
      ]
    },
    {
      "cell_type": "code",
      "source": [
        "maxSeqLen = max([len(x) for x in inputSeq])\n",
        "\n",
        "inputSeq = pad_sequences(inputSeq, maxlen=maxSeqLen)\n",
        "inputSeq\n",
        "\n",
        "X, y = inputSeq[:, :-1], inputSeq[:, -1]\n",
        "y = tf.keras.utils.to_categorical(y, num_classes=n)"
      ],
      "metadata": {
        "id": "Vxt9jK9VrN0F"
      },
      "execution_count": 48,
      "outputs": []
    },
    {
      "cell_type": "code",
      "source": [
        "model = tf.keras.Sequential([\n",
        "    Embedding(n, 64, input_length=maxSeqLen-1),\n",
        "    Bidirectional(LSTM(20)),\n",
        "    Dense(n, activation=\"softmax\")\n",
        "])\n",
        "\n",
        "model.compile(optimizer=\"adam\", loss=\"categorical_crossentropy\", metrics=[\"accuracy\"])\n",
        "history = model.fit(X, y, epochs=500)"
      ],
      "metadata": {
        "id": "OyyZ6E4NtCTa"
      },
      "execution_count": null,
      "outputs": []
    },
    {
      "cell_type": "code",
      "source": [
        "seedText = \"kiran\"\n",
        "nextWords = 5\n",
        "\n",
        "for i in range(nextWords):\n",
        "  tokenList = tk.texts_to_sequences([seedText])[0]\n",
        "  tokenList = pad_sequences([tokenList], maxlen=maxSeqLen-1)\n",
        "  pred = model.predict(tokenList, verbose=0)\n",
        "  outputWord = \"\"\n",
        "  for word, index in tk.word_index.items():\n",
        "    if index == np.argmax(pred, axis=1):\n",
        "      outputWord = word\n",
        "      break\n",
        "  seedText += \" \" + outputWord\n",
        "print(seedText)"
      ],
      "metadata": {
        "colab": {
          "base_uri": "https://localhost:8080/"
        },
        "id": "iglzh2lptnz3",
        "outputId": "0a11abfc-8e26-46a4-c164-a3b7a547b625"
      },
      "execution_count": 54,
      "outputs": [
        {
          "output_type": "stream",
          "name": "stdout",
          "text": [
            "kiran deep is a good boy\n"
          ]
        }
      ]
    }
  ]
}